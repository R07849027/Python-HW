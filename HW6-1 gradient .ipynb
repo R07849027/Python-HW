{
 "cells": [
  {
   "cell_type": "code",
   "execution_count": 17,
   "metadata": {},
   "outputs": [],
   "source": [
    "%matplotlib inline\n",
    "import numpy as np\n",
    "import matplotlib.pyplot as plt\n",
    "import math"
   ]
  },
  {
   "cell_type": "markdown",
   "metadata": {},
   "source": [
    "### 訂定 loss function\n",
    "\n",
    "    \n",
    "   $f(x) = x^4 + x^3 - 5x^2 + 18x + 9487$ \n",
    "\n"
   ]
  },
  {
   "cell_type": "code",
   "execution_count": 228,
   "metadata": {},
   "outputs": [],
   "source": [
    "#定義出 loss function 並先做圖觀察\n",
    "x0 = np.arange(-100,100,0.01)\n",
    "\n",
    "def loss(x):\n",
    "    y = x**4 + x**3 - 5*x**2 + 18*x +9487\n",
    "    return(y)\n",
    "\n",
    "y = []\n",
    "\n",
    "for i in range(len(x0)):\n",
    "    y.append(loss(x0[i]))"
   ]
  },
  {
   "cell_type": "code",
   "execution_count": 229,
   "metadata": {},
   "outputs": [
    {
     "data": {
      "text/plain": [
       "[<matplotlib.lines.Line2D at 0x214f1326518>]"
      ]
     },
     "execution_count": 229,
     "metadata": {},
     "output_type": "execute_result"
    },
    {
     "data": {
      "image/png": "[encoded data removed]",
      "text/plain": [
       "<Figure size 432x288 with 1 Axes>"
      ]
     },
     "metadata": {},
     "output_type": "display_data"
    }
   ],
   "source": [
    "plt.plot(x0,y)"
   ]
  },
  {
   "cell_type": "markdown",
   "metadata": {},
   "source": [
    "從圖看來最小值可能發生在 x = 0 附近的位置"
   ]
  },
  {
   "cell_type": "markdown",
   "metadata": {},
   "source": [
    "#### 對 x 做一階微分的函式"
   ]
  },
  {
   "cell_type": "code",
   "execution_count": 230,
   "metadata": {},
   "outputs": [],
   "source": [
    "def loss_1(x):\n",
    "    slope = 4*x**3 + 3*x**2 - 10*(x) + 18\n",
    "    return(slope)"
   ]
  },
  {
   "cell_type": "markdown",
   "metadata": {},
   "source": [
    "#### 重複解根 100次，確保答案的正確性\n",
    "\n",
    "    由於解根結果可能會受隨機起始值的影響，因此重複做100次，並對這100次結果做描述性統計，若這 100 非常集中，則平均值則是理想的解根答案。\n",
    "    \n",
    "    從圖來看，起始值的範圍應該可以設在 -100 ~ 100"
   ]
  },
  {
   "cell_type": "code",
   "execution_count": 231,
   "metadata": {},
   "outputs": [],
   "source": [
    "learning_rate = 0.00001\n",
    "ans = []\n",
    "\n",
    "for i in range(100):\n",
    "    \n",
    "    #起始值由 np.arange(-100,100,0.01) 隨機選取一個\n",
    "    x = np.random.choice(x0,size = 1)[0]\n",
    "    \n",
    "    while True:\n",
    "        y = loss(x)\n",
    "        delta = loss_1(x)\n",
    "        x += -1*delta*learning_rate\n",
    "        y_new = loss(x)\n",
    "        if(y_new >= y):\n",
    "            ans.append(x+delta*learning_rate)\n",
    "            break\n"
   ]
  },
  {
   "cell_type": "code",
   "execution_count": 175,
   "metadata": {},
   "outputs": [],
   "source": []
  },
  {
   "cell_type": "markdown",
   "metadata": {},
   "source": [
    "#### 敘述這100筆答案的集中與離散"
   ]
  },
  {
   "cell_type": "code",
   "execution_count": 232,
   "metadata": {},
   "outputs": [
    {
     "data": {
      "text/plain": [
       "-2.484876083581984"
      ]
     },
     "execution_count": 232,
     "metadata": {},
     "output_type": "execute_result"
    }
   ],
   "source": [
    "#平均值\n",
    "np.mean(ans)"
   ]
  },
  {
   "cell_type": "code",
   "execution_count": 182,
   "metadata": {},
   "outputs": [
    {
     "data": {
      "text/plain": [
       "-2.4848681153853205"
      ]
     },
     "execution_count": 182,
     "metadata": {},
     "output_type": "execute_result"
    }
   ],
   "source": [
    "#最大值\n",
    "max(ans)"
   ]
  },
  {
   "cell_type": "code",
   "execution_count": 184,
   "metadata": {},
   "outputs": [
    {
     "data": {
      "text/plain": [
       "-2.484885463155453"
      ]
     },
     "execution_count": 184,
     "metadata": {},
     "output_type": "execute_result"
    }
   ],
   "source": [
    "#最小值\n",
    "min(ans)"
   ]
  },
  {
   "cell_type": "code",
   "execution_count": 185,
   "metadata": {},
   "outputs": [
    {
     "data": {
      "text/plain": [
       "8.509122639660726e-06"
      ]
     },
     "execution_count": 185,
     "metadata": {},
     "output_type": "execute_result"
    }
   ],
   "source": [
    "#標準差\n",
    "np.std(ans)"
   ]
  },
  {
   "cell_type": "markdown",
   "metadata": {},
   "source": [
    "#### 100次答案均集中於 -2.4848\n",
    "\n",
    "     平均值與最大最小值的差異微乎其微，且標準差為 8*10^-6，代表100次答案均集中於 -2.4848。因此當 x = -2.4848 時 loss function 有最小值。\n"
   ]
  },
  {
   "cell_type": "markdown",
   "metadata": {},
   "source": [
    "### 來互動囉！自訂起始值與 learning rate，看看結果有何不同？ \n",
    "\n",
    "    自訂起始值或learning rate，看100次解根答案的平均值是否與正確答案有差，並透過標準差得知 100 次答案的離散程度。"
   ]
  },
  {
   "cell_type": "code",
   "execution_count": 188,
   "metadata": {},
   "outputs": [],
   "source": [
    "from ipywidgets import interact"
   ]
  },
  {
   "cell_type": "markdown",
   "metadata": {},
   "source": [
    "#### 自訂起始值 "
   ]
  },
  {
   "cell_type": "code",
   "execution_count": 200,
   "metadata": {},
   "outputs": [],
   "source": [
    "def forfun(start):\n",
    "    learning_rate = 0.00001\n",
    "    ans = []\n",
    "    for i in range(100):\n",
    "        #起始值由互動來自訂\n",
    "        x = start\n",
    "        while True:\n",
    "            y = loss(x)\n",
    "            delta = loss_1(x)\n",
    "            x += -1*delta*learning_rate\n",
    "            y_new = loss(x)\n",
    "            if(y_new >= y):\n",
    "                ans.append(x+delta*learning_rate)\n",
    "                break\n",
    "    print(\"解根平均值為\",np.mean(ans))\n",
    "    print(\"解根標準差為\",np.std(ans))"
   ]
  },
  {
   "cell_type": "code",
   "execution_count": 202,
   "metadata": {},
   "outputs": [
    {
     "data": {
      "application/vnd.jupyter.widget-view+json": {
       "model_id": "6a759c7618c141a994c1368113ff3252",
       "version_major": 2,
       "version_minor": 0
      },
      "text/plain": [
       "interactive(children=(IntSlider(value=0, description='start', max=150, min=-150), Output()), _dom_classes=('wi…"
      ]
     },
     "metadata": {},
     "output_type": "display_data"
    },
    {
     "data": {
      "text/plain": [
       "<function __main__.forfun(start)>"
      ]
     },
     "execution_count": 202,
     "metadata": {},
     "output_type": "execute_result"
    }
   ],
   "source": [
    "#起始值的互動範圍調寬一點，由 -150 ~ 150\n",
    "interact(forfun,start=(-150,150))"
   ]
  },
  {
   "cell_type": "markdown",
   "metadata": {},
   "source": [
    "可以發現起始值從 -150~150 解根均平均值為 -2.4848，且標準差都很接近0，代表100次解根均集中於 -2.4848。"
   ]
  },
  {
   "cell_type": "markdown",
   "metadata": {},
   "source": [
    "#### 自訂 Learning rate "
   ]
  },
  {
   "cell_type": "code",
   "execution_count": 204,
   "metadata": {},
   "outputs": [],
   "source": [
    "def forfun2(lr):\n",
    "    # learning rate 自訂\n",
    "    learning_rate = lr\n",
    "    ans = []\n",
    "    for i in range(100):    \n",
    "        x = np.random.choice(x0,size = 1)[0]\n",
    "        while True:\n",
    "            y = loss(x)\n",
    "            delta = loss_1(x)\n",
    "            x += -1*delta*learning_rate\n",
    "            y_new = loss(x)\n",
    "            if(y_new >= y):\n",
    "                ans.append(x+delta*learning_rate)\n",
    "                break\n",
    "    print(\"解根平均值為\",np.mean(ans))\n",
    "    print(\"解根標準差為\",np.std(ans))"
   ]
  },
  {
   "cell_type": "code",
   "execution_count": 210,
   "metadata": {},
   "outputs": [
    {
     "data": {
      "application/vnd.jupyter.widget-view+json": {
       "model_id": "c7180d4baeaf49eb811feaa64b9ff007",
       "version_major": 2,
       "version_minor": 0
      },
      "text/plain": [
       "interactive(children=(Dropdown(description='lr', options=(1e-05, 2e-05, 3.0000000000000004e-05, 4e-05, 5e-05, …"
      ]
     },
     "metadata": {},
     "output_type": "display_data"
    },
    {
     "data": {
      "text/plain": [
       "<function __main__.forfun2(lr)>"
      ]
     },
     "execution_count": 210,
     "metadata": {},
     "output_type": "execute_result"
    }
   ],
   "source": [
    "#Learning rate 調整範圍： 0.00001 ~ 1\n",
    "interact(forfun2,lr=np.arange(0.00001,1,0.00001))"
   ]
  },
  {
   "cell_type": "markdown",
   "metadata": {},
   "source": [
    "#### 討論\n",
    "\n",
    "    由原先的 learning rate (0.00001) 上升到 1 的過程中，解根的標準差越來越大，代表答案的離散程度越大。更重要的是，到 learning rate >= 0.00007 後已經不是正確答案了 (-1.0861)。\n",
    "    若 learning rate 太大 (e.g. 0.1)，則 x 會直接跳過最小值。原先的0.00001是在顧及答案的正確性及程式運作速度下的最佳 learning rate，小於 0.00001 的話會更精確，但運作速度太慢。"
   ]
  }
 ],
 "metadata": {
  "kernelspec": {
   "display_name": "Python 3",
   "language": "python",
   "name": "python3"
  },
  "language_info": {
   "codemirror_mode": {
    "name": "ipython",
    "version": 3
   },
   "file_extension": ".py",
   "mimetype": "text/x-python",
   "name": "python",
   "nbconvert_exporter": "python",
   "pygments_lexer": "ipython3",
   "version": "3.6.5"
  }
 },
 "nbformat": 4,
 "nbformat_minor": 2
}
