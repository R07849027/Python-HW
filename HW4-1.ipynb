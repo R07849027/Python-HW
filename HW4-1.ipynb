{
 "cells": [
  {
   "cell_type": "code",
   "execution_count": 61,
   "metadata": {},
   "outputs": [],
   "source": [
    "%matplotlib inline\n",
    "import pandas as pd\n",
    "import numpy as np\n",
    "import matplotlib.pyplot as plt\n",
    "import scipy.stats as stats\n",
    "from IPython.display import HTML"
   ]
  },
  {
   "cell_type": "code",
   "execution_count": 2,
   "metadata": {},
   "outputs": [],
   "source": [
    "disease = pd.read_csv(\"https://od.cdc.gov.tw/cdc/TCDCIntlEpidAll.csv\")"
   ]
  },
  {
   "cell_type": "markdown",
   "metadata": {},
   "source": [
    "## 查看資料"
   ]
  },
  {
   "cell_type": "code",
   "execution_count": 3,
   "metadata": {},
   "outputs": [
    {
     "data": {
      "text/html": [
       "<div>\n",
       "<style scoped>\n",
       "    .dataframe tbody tr th:only-of-type {\n",
       "        vertical-align: middle;\n",
       "    }\n",
       "\n",
       "    .dataframe tbody tr th {\n",
       "        vertical-align: top;\n",
       "    }\n",
       "\n",
       "    .dataframe thead th {\n",
       "        text-align: right;\n",
       "    }\n",
       "</style>\n",
       "<table border=\"1\" class=\"dataframe\">\n",
       "  <thead>\n",
       "    <tr style=\"text-align: right;\">\n",
       "      <th></th>\n",
       "      <th>sent</th>\n",
       "      <th>source</th>\n",
       "      <th>effective</th>\n",
       "      <th>expires</th>\n",
       "      <th>senderName</th>\n",
       "      <th>headline</th>\n",
       "      <th>description</th>\n",
       "      <th>instruction</th>\n",
       "      <th>web</th>\n",
       "      <th>alert_title</th>\n",
       "      <th>severity_level</th>\n",
       "      <th>alert_disease</th>\n",
       "      <th>areaDesc</th>\n",
       "      <th>areaDesc_EN</th>\n",
       "      <th>circle</th>\n",
       "      <th>ISO3166</th>\n",
       "      <th>areaDetail</th>\n",
       "      <th>ISO3166_2</th>\n",
       "    </tr>\n",
       "  </thead>\n",
       "  <tbody>\n",
       "    <tr>\n",
       "      <th>0</th>\n",
       "      <td>2011-12-28T00:00:00+08:00</td>\n",
       "      <td>CDC</td>\n",
       "      <td>2011-12-28T00:00:00+08:00</td>\n",
       "      <td>2012-03-28T00:00:00+08:00</td>\n",
       "      <td>疾病管制署</td>\n",
       "      <td>美國─阪崎腸桿菌</td>\n",
       "      <td>美國密蘇里州近1個月有2名新生兒感染侵入性阪崎腸桿菌（Cronobacter sakazak...</td>\n",
       "      <td>NaN</td>\n",
       "      <td>http://www.cdc.gov.tw/professional/epidemicinf...</td>\n",
       "      <td>國際重要疫情資訊</td>\n",
       "      <td>NaN</td>\n",
       "      <td>NaN</td>\n",
       "      <td>美國</td>\n",
       "      <td>USA</td>\n",
       "      <td>38.82,-100.54</td>\n",
       "      <td>US</td>\n",
       "      <td>NaN</td>\n",
       "      <td>NaN</td>\n",
       "    </tr>\n",
       "    <tr>\n",
       "      <th>1</th>\n",
       "      <td>2011-12-28T00:00:00+08:00</td>\n",
       "      <td>CDC</td>\n",
       "      <td>2011-12-28T00:00:00+08:00</td>\n",
       "      <td>2012-03-28T00:00:00+08:00</td>\n",
       "      <td>疾病管制署</td>\n",
       "      <td>俄羅斯─麻疹</td>\n",
       "      <td>俄羅斯24個地區今年共通報222例麻疹，其中Dagestan地區7-12月共確診68例。</td>\n",
       "      <td>NaN</td>\n",
       "      <td>http://www.cdc.gov.tw/professional/epidemicinf...</td>\n",
       "      <td>國際重要疫情資訊</td>\n",
       "      <td>NaN</td>\n",
       "      <td>麻疹</td>\n",
       "      <td>俄羅斯,白俄羅斯</td>\n",
       "      <td>Russian Federation,Belarus</td>\n",
       "      <td>59.53,94.57</td>\n",
       "      <td>RU,BY</td>\n",
       "      <td>NaN</td>\n",
       "      <td>NaN</td>\n",
       "    </tr>\n",
       "    <tr>\n",
       "      <th>2</th>\n",
       "      <td>2011-12-28T00:00:00+08:00</td>\n",
       "      <td>CDC</td>\n",
       "      <td>2011-12-28T00:00:00+08:00</td>\n",
       "      <td>2012-03-28T00:00:00+08:00</td>\n",
       "      <td>疾病管制署</td>\n",
       "      <td>剛果民主共和國─霍亂</td>\n",
       "      <td>剛果民主共和國4個省份（P.Orientale、Equateur、Bandundu、Kins...</td>\n",
       "      <td>NaN</td>\n",
       "      <td>http://www.cdc.gov.tw/professional/epidemicinf...</td>\n",
       "      <td>國際重要疫情資訊</td>\n",
       "      <td>NaN</td>\n",
       "      <td>霍亂</td>\n",
       "      <td>剛果民主共和國</td>\n",
       "      <td>Congo,Democratic Republic of the</td>\n",
       "      <td>-3.07,24.52</td>\n",
       "      <td>CD</td>\n",
       "      <td>NaN</td>\n",
       "      <td>NaN</td>\n",
       "    </tr>\n",
       "    <tr>\n",
       "      <th>3</th>\n",
       "      <td>2011-12-28T00:00:00+08:00</td>\n",
       "      <td>CDC</td>\n",
       "      <td>2011-12-28T00:00:00+08:00</td>\n",
       "      <td>2012-03-28T00:00:00+08:00</td>\n",
       "      <td>疾病管制署</td>\n",
       "      <td>蒲隆地─霍亂</td>\n",
       "      <td>蒲隆地持續4個月的霍亂疫情已獲控制，累計1,100餘人感染，8例死亡。</td>\n",
       "      <td>NaN</td>\n",
       "      <td>http://www.cdc.gov.tw/professional/epidemicinf...</td>\n",
       "      <td>國際重要疫情資訊</td>\n",
       "      <td>NaN</td>\n",
       "      <td>霍亂</td>\n",
       "      <td>蒲隆地</td>\n",
       "      <td>Burundi</td>\n",
       "      <td>-3.30,29.89</td>\n",
       "      <td>BI</td>\n",
       "      <td>NaN</td>\n",
       "      <td>NaN</td>\n",
       "    </tr>\n",
       "    <tr>\n",
       "      <th>4</th>\n",
       "      <td>2011-12-28T00:00:00+08:00</td>\n",
       "      <td>CDC</td>\n",
       "      <td>2011-12-28T00:00:00+08:00</td>\n",
       "      <td>2012-03-28T00:00:00+08:00</td>\n",
       "      <td>疾病管制署</td>\n",
       "      <td>印尼─愛滋病</td>\n",
       "      <td>澳洲衛生部於12/25接獲通報一例愛滋病毒感染者，疑似於印尼峇里島旅遊時經由刺青感染，目前正...</td>\n",
       "      <td>NaN</td>\n",
       "      <td>http://www.cdc.gov.tw/professional/epidemicinf...</td>\n",
       "      <td>國際重要疫情資訊</td>\n",
       "      <td>NaN</td>\n",
       "      <td>人類免疫缺乏病毒感染</td>\n",
       "      <td>印尼</td>\n",
       "      <td>Indonesia</td>\n",
       "      <td>-4.39,122.95</td>\n",
       "      <td>ID</td>\n",
       "      <td>NaN</td>\n",
       "      <td>NaN</td>\n",
       "    </tr>\n",
       "  </tbody>\n",
       "</table>\n",
       "</div>"
      ],
      "text/plain": [
       "                        sent source                  effective  \\\n",
       "0  2011-12-28T00:00:00+08:00    CDC  2011-12-28T00:00:00+08:00   \n",
       "1  2011-12-28T00:00:00+08:00    CDC  2011-12-28T00:00:00+08:00   \n",
       "2  2011-12-28T00:00:00+08:00    CDC  2011-12-28T00:00:00+08:00   \n",
       "3  2011-12-28T00:00:00+08:00    CDC  2011-12-28T00:00:00+08:00   \n",
       "4  2011-12-28T00:00:00+08:00    CDC  2011-12-28T00:00:00+08:00   \n",
       "\n",
       "                     expires senderName    headline  \\\n",
       "0  2012-03-28T00:00:00+08:00      疾病管制署    美國─阪崎腸桿菌   \n",
       "1  2012-03-28T00:00:00+08:00      疾病管制署      俄羅斯─麻疹   \n",
       "2  2012-03-28T00:00:00+08:00      疾病管制署  剛果民主共和國─霍亂   \n",
       "3  2012-03-28T00:00:00+08:00      疾病管制署      蒲隆地─霍亂   \n",
       "4  2012-03-28T00:00:00+08:00      疾病管制署      印尼─愛滋病   \n",
       "\n",
       "                                         description instruction  \\\n",
       "0  美國密蘇里州近1個月有2名新生兒感染侵入性阪崎腸桿菌（Cronobacter sakazak...         NaN   \n",
       "1       俄羅斯24個地區今年共通報222例麻疹，其中Dagestan地區7-12月共確診68例。         NaN   \n",
       "2  剛果民主共和國4個省份（P.Orientale、Equateur、Bandundu、Kins...         NaN   \n",
       "3                蒲隆地持續4個月的霍亂疫情已獲控制，累計1,100餘人感染，8例死亡。         NaN   \n",
       "4  澳洲衛生部於12/25接獲通報一例愛滋病毒感染者，疑似於印尼峇里島旅遊時經由刺青感染，目前正...         NaN   \n",
       "\n",
       "                                                 web alert_title  \\\n",
       "0  http://www.cdc.gov.tw/professional/epidemicinf...    國際重要疫情資訊   \n",
       "1  http://www.cdc.gov.tw/professional/epidemicinf...    國際重要疫情資訊   \n",
       "2  http://www.cdc.gov.tw/professional/epidemicinf...    國際重要疫情資訊   \n",
       "3  http://www.cdc.gov.tw/professional/epidemicinf...    國際重要疫情資訊   \n",
       "4  http://www.cdc.gov.tw/professional/epidemicinf...    國際重要疫情資訊   \n",
       "\n",
       "  severity_level alert_disease  areaDesc                       areaDesc_EN  \\\n",
       "0            NaN           NaN        美國                               USA   \n",
       "1            NaN            麻疹  俄羅斯,白俄羅斯        Russian Federation,Belarus   \n",
       "2            NaN            霍亂   剛果民主共和國  Congo,Democratic Republic of the   \n",
       "3            NaN            霍亂       蒲隆地                           Burundi   \n",
       "4            NaN    人類免疫缺乏病毒感染        印尼                         Indonesia   \n",
       "\n",
       "          circle ISO3166 areaDetail ISO3166_2  \n",
       "0  38.82,-100.54      US        NaN       NaN  \n",
       "1    59.53,94.57   RU,BY        NaN       NaN  \n",
       "2    -3.07,24.52      CD        NaN       NaN  \n",
       "3    -3.30,29.89      BI        NaN       NaN  \n",
       "4   -4.39,122.95      ID        NaN       NaN  "
      ]
     },
     "execution_count": 3,
     "metadata": {},
     "output_type": "execute_result"
    }
   ],
   "source": [
    "disease.head()"
   ]
  },
  {
   "cell_type": "markdown",
   "metadata": {},
   "source": [
    "### 從資料中發現，可用\"sent\" column來判斷年份，並利用\"headline\" column中是否含\"美國\"來判斷美國個案"
   ]
  },
  {
   "cell_type": "code",
   "execution_count": 74,
   "metadata": {},
   "outputs": [],
   "source": [
    "index = list(range(2009,2019))\n",
    "case = [0,0,0,0,0,0,0,0,0,0]\n",
    "for i in range(len(disease[\"sent\"])):\n",
    "    if  (\"2009\" in disease[\"sent\"][i]) and (\"美國\" in disease[\"headline\"][i]) :\n",
    "        case[0] += 1\n",
    "    elif (\"2010\" in disease[\"sent\"][i]) and (\"美國\" in disease[\"headline\"][i]):\n",
    "        case[1] += 1\n",
    "    elif (\"2011\" in disease[\"sent\"][i]) and (\"美國\" in disease[\"headline\"][i]):\n",
    "        case[2] += 1\n",
    "    elif (\"2012\" in disease[\"sent\"][i]) and (\"美國\" in disease[\"headline\"][i]):\n",
    "        case[3] += 1\n",
    "    elif (\"2013\" in disease[\"sent\"][i]) and (\"美國\" in disease[\"headline\"][i]):\n",
    "        case[4] += 1\n",
    "    elif (\"2014\" in disease[\"sent\"][i]) and (\"美國\" in disease[\"headline\"][i]):\n",
    "        case[5] += 1\n",
    "    elif (\"2015\" in disease[\"sent\"][i]) and (\"美國\" in disease[\"headline\"][i]):\n",
    "        case[6] += 1\n",
    "    elif (\"2016\" in disease[\"sent\"][i]) and (\"美國\" in disease[\"headline\"][i]):\n",
    "        case[7] += 1\n",
    "    elif (\"2017\" in disease[\"sent\"][i]) and (\"美國\" in disease[\"headline\"][i]):\n",
    "        case[8] += 1\n",
    "    elif (\"2018\" in disease[\"sent\"][i]) and (\"美國\" in disease[\"headline\"][i]):\n",
    "        case[9] += 1\n",
    "    "
   ]
  },
  {
   "cell_type": "markdown",
   "metadata": {},
   "source": [
    "## 展示2009年到2018年美國重要病例數的表格"
   ]
  },
  {
   "cell_type": "code",
   "execution_count": 90,
   "metadata": {},
   "outputs": [
    {
     "data": {
      "text/html": [
       "<div>\n",
       "<style scoped>\n",
       "    .dataframe tbody tr th:only-of-type {\n",
       "        vertical-align: middle;\n",
       "    }\n",
       "\n",
       "    .dataframe tbody tr th {\n",
       "        vertical-align: top;\n",
       "    }\n",
       "\n",
       "    .dataframe thead th {\n",
       "        text-align: right;\n",
       "    }\n",
       "</style>\n",
       "<table border=\"1\" class=\"dataframe\">\n",
       "  <thead>\n",
       "    <tr style=\"text-align: right;\">\n",
       "      <th></th>\n",
       "      <th>美國重要病例數</th>\n",
       "    </tr>\n",
       "  </thead>\n",
       "  <tbody>\n",
       "    <tr>\n",
       "      <th>2009</th>\n",
       "      <td>99</td>\n",
       "    </tr>\n",
       "    <tr>\n",
       "      <th>2010</th>\n",
       "      <td>89</td>\n",
       "    </tr>\n",
       "    <tr>\n",
       "      <th>2011</th>\n",
       "      <td>159</td>\n",
       "    </tr>\n",
       "    <tr>\n",
       "      <th>2012</th>\n",
       "      <td>222</td>\n",
       "    </tr>\n",
       "    <tr>\n",
       "      <th>2013</th>\n",
       "      <td>223</td>\n",
       "    </tr>\n",
       "    <tr>\n",
       "      <th>2014</th>\n",
       "      <td>235</td>\n",
       "    </tr>\n",
       "    <tr>\n",
       "      <th>2015</th>\n",
       "      <td>221</td>\n",
       "    </tr>\n",
       "    <tr>\n",
       "      <th>2016</th>\n",
       "      <td>170</td>\n",
       "    </tr>\n",
       "    <tr>\n",
       "      <th>2017</th>\n",
       "      <td>121</td>\n",
       "    </tr>\n",
       "    <tr>\n",
       "      <th>2018</th>\n",
       "      <td>82</td>\n",
       "    </tr>\n",
       "  </tbody>\n",
       "</table>\n",
       "</div>"
      ],
      "text/plain": [
       "      美國重要病例數\n",
       "2009       99\n",
       "2010       89\n",
       "2011      159\n",
       "2012      222\n",
       "2013      223\n",
       "2014      235\n",
       "2015      221\n",
       "2016      170\n",
       "2017      121\n",
       "2018       82"
      ]
     },
     "metadata": {},
     "output_type": "display_data"
    }
   ],
   "source": [
    "US_case = pd.DataFrame(case, index = index, columns = ['美國重要病例數'])\n",
    "display(US_case)"
   ]
  },
  {
   "cell_type": "markdown",
   "metadata": {},
   "source": [
    "## 對年份做折線圖"
   ]
  },
  {
   "cell_type": "code",
   "execution_count": 83,
   "metadata": {},
   "outputs": [
    {
     "data": {
      "image/png": "[encoded data removed]",
      "text/plain": [
       "<Figure size 432x288 with 1 Axes>"
      ]
     },
     "metadata": {},
     "output_type": "display_data"
    }
   ],
   "source": [
    "plt.plot(index,case)\n",
    "plt.scatter(index,case)\n",
    "plt.ylim(0,300)\n",
    "plt.xlabel('year')\n",
    "plt.ylabel('case numbers')\n",
    "plt.show()"
   ]
  },
  {
   "cell_type": "code",
   "execution_count": 97,
   "metadata": {},
   "outputs": [
    {
     "data": {
      "text/plain": [
       "([<matplotlib.patches.Wedge at 0x29dab0acba8>,\n",
       "  <matplotlib.patches.Wedge at 0x29dab0b4390>,\n",
       "  <matplotlib.patches.Wedge at 0x29dab0b4ba8>,\n",
       "  <matplotlib.patches.Wedge at 0x29dab0bd400>,\n",
       "  <matplotlib.patches.Wedge at 0x29dab0bdc18>,\n",
       "  <matplotlib.patches.Wedge at 0x29dab0c8470>,\n",
       "  <matplotlib.patches.Wedge at 0x29dab0c8c50>,\n",
       "  <matplotlib.patches.Wedge at 0x29dab0d14a8>,\n",
       "  <matplotlib.patches.Wedge at 0x29dab0d1cc0>,\n",
       "  <matplotlib.patches.Wedge at 0x29dab0d9518>],\n",
       " [Text(1.07981,0.209762,'2009'),\n",
       "  Text(0.934181,0.58078,'2010'),\n",
       "  Text(0.559817,0.946892,'2011'),\n",
       "  Text(-0.223348,1.07709,'2012'),\n",
       "  Text(-0.963279,0.531124,'2013'),\n",
       "  Text(-1.02,-0.411826,'2014'),\n",
       "  Text(-0.328545,-1.04979,'2015'),\n",
       "  Text(0.482889,-0.988341,'2016'),\n",
       "  Text(0.936425,-0.577155,'2017'),\n",
       "  Text(1.08614,-0.174078,'2018')],\n",
       " [Text(0.58899,0.114416,'6.1%'),\n",
       "  Text(0.509553,0.316789,'5.5%'),\n",
       "  Text(0.305355,0.516487,'9.8%'),\n",
       "  Text(-0.121826,0.587502,'13.7%'),\n",
       "  Text(-0.525425,0.289704,'13.8%'),\n",
       "  Text(-0.556364,-0.224632,'14.5%'),\n",
       "  Text(-0.179206,-0.572613,'13.6%'),\n",
       "  Text(0.263394,-0.539095,'10.5%'),\n",
       "  Text(0.510777,-0.314812,'7.5%'),\n",
       "  Text(0.592439,-0.0949516,'5.1%')])"
      ]
     },
     "execution_count": 97,
     "metadata": {},
     "output_type": "execute_result"
    },
    {
     "data": {
      "image/png": "[encoded data removed]",
      "text/plain": [
       "<Figure size 432x288 with 1 Axes>"
      ]
     },
     "metadata": {},
     "output_type": "display_data"
    }
   ],
   "source": [
    "plt.pie(case,labels = index,autopct='%1.1f%%')"
   ]
  },
  {
   "cell_type": "markdown",
   "metadata": {},
   "source": [
    "### 可以發現2014的病例數佔這十年來最多"
   ]
  }
 ],
 "metadata": {
  "kernelspec": {
   "display_name": "Python 3",
   "language": "python",
   "name": "python3"
  },
  "language_info": {
   "codemirror_mode": {
    "name": "ipython",
    "version": 3
   },
   "file_extension": ".py",
   "mimetype": "text/x-python",
   "name": "python",
   "nbconvert_exporter": "python",
   "pygments_lexer": "ipython3",
   "version": "3.6.5"
  }
 },
 "nbformat": 4,
 "nbformat_minor": 2
}
