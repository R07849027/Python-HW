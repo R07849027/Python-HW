{
 "cells": [
  {
   "cell_type": "markdown",
   "metadata": {},
   "source": [
    "## [NCTS]作業8-1 使用Functional API打造具有分岔的神經網路\n"
   ]
  },
  {
   "cell_type": "code",
   "execution_count": 57,
   "metadata": {},
   "outputs": [
    {
     "name": "stdout",
     "output_type": "stream",
     "text": [
      "env: KERAS_BACKEND=tensorflow\n"
     ]
    }
   ],
   "source": [
    "%env KERAS_BACKEND = tensorflow\n",
    "%matplotlib inline\n",
    "import numpy as np\n",
    "import matplotlib.pyplot as plt\n",
    "import pandas as pd\n",
    "\n",
    "from ipywidgets import interact, IntSlider\n",
    "\n",
    "#NN-related\n",
    "from keras.models import Sequential\n",
    "from keras.layers.core import Dense,Activation\n",
    "from keras.optimizers import SGD, Adam\n",
    "\n",
    "# dataset\n",
    "from keras.datasets import mnist\n",
    "\n",
    "# something useful\n",
    "from keras.utils import to_categorical\n",
    "\n",
    "from keras.utils import np_utils"
   ]
  },
  {
   "cell_type": "markdown",
   "metadata": {},
   "source": [
    "### 由 Keras 讀入 MNIST"
   ]
  },
  {
   "cell_type": "code",
   "execution_count": 4,
   "metadata": {},
   "outputs": [],
   "source": [
    "(x_train0,y_train0),(x_test0,y_test0) = mnist.load_data()"
   ]
  },
  {
   "cell_type": "code",
   "execution_count": 5,
   "metadata": {},
   "outputs": [
    {
     "name": "stdout",
     "output_type": "stream",
     "text": [
      "共 60000 訓練資料，每筆資料的尺寸為 28 x 28\n"
     ]
    }
   ],
   "source": [
    "print(\"共 %d 訓練資料，每筆資料的尺寸為 %d x %d\" %x_train0.shape)"
   ]
  },
  {
   "cell_type": "markdown",
   "metadata": {},
   "source": [
    "###  整理資料以便輸入"
   ]
  },
  {
   "cell_type": "code",
   "execution_count": 8,
   "metadata": {},
   "outputs": [],
   "source": [
    "x_train = x_train0.reshape(60000,28*28)\n",
    "x_test = x_test0.reshape(x_test0.shape[0],28*28)\n",
    "\n",
    "#將資料線性單位化\n",
    "x_train -= x_train.min()\n",
    "x_train = x_train/x_train.max()\n",
    "\n",
    "x_test -= x_test.min()\n",
    "x_test = x_test/x_test.max()\n",
    "\n",
    "#y 我想使用 one-hot encoding\n",
    "y_train_num = to_categorical(y_train0,10)\n",
    "y_test_num = to_categorical(y_test0,10)"
   ]
  },
  {
   "cell_type": "markdown",
   "metadata": {},
   "source": [
    "###  匯入 Functional API 的套件"
   ]
  },
  {
   "cell_type": "code",
   "execution_count": 10,
   "metadata": {},
   "outputs": [],
   "source": [
    "from keras.models import Model\n",
    "from keras.layers import Input\n",
    "from keras.layers import concatenate, add"
   ]
  },
  {
   "cell_type": "markdown",
   "metadata": {},
   "source": [
    "###  設計的神經網路如下"
   ]
  },
  {
   "cell_type": "markdown",
   "metadata": {},
   "source": [
    "<img src=\"hw8-1.png\" alt=\"drawing\" style=\"width: 800px;\"/>"
   ]
  },
  {
   "cell_type": "code",
   "execution_count": 12,
   "metadata": {},
   "outputs": [],
   "source": [
    "x = Input(shape=(784,))\n",
    "\n",
    "#First layer\n",
    "\n",
    "f_1 = Dense(400, activation='sigmoid')\n",
    "f_2 = Dense(200, activation='sigmoid')\n",
    "f_3 = Dense(400, activation='sigmoid')\n",
    "\n",
    "\n",
    "h_1 = f_1(x)\n",
    "h_2 = f_2(x)\n",
    "h_3 = f_3(x)"
   ]
  },
  {
   "cell_type": "code",
   "execution_count": 14,
   "metadata": {},
   "outputs": [],
   "source": [
    "#First concatenate\n",
    "\n",
    "u_1 = concatenate([h_1, h_2, h_3])"
   ]
  },
  {
   "cell_type": "code",
   "execution_count": 15,
   "metadata": {},
   "outputs": [],
   "source": [
    "#Second layer\n",
    "f_4 = Dense(500, activation='sigmoid')\n",
    "\n",
    "h_4 = f_4(u_1)"
   ]
  },
  {
   "cell_type": "code",
   "execution_count": 17,
   "metadata": {},
   "outputs": [],
   "source": [
    "#Third layer\n",
    "\n",
    "f_5 = Dense(300, activation='relu')\n",
    "f_6 = Dense(300, activation='relu')\n",
    "\n",
    "h_5 = f_5(h_4)\n",
    "h_6 = f_6(h_4)"
   ]
  },
  {
   "cell_type": "code",
   "execution_count": 19,
   "metadata": {},
   "outputs": [],
   "source": [
    "#Second concatenate\n",
    "\n",
    "u_2 = concatenate([h_5, h_6])"
   ]
  },
  {
   "cell_type": "code",
   "execution_count": 21,
   "metadata": {},
   "outputs": [],
   "source": [
    "#last layer\n",
    "\n",
    "f_7 = Dense(10, activation='softmax')\n",
    "\n",
    "y = f_7(u_2)"
   ]
  },
  {
   "cell_type": "code",
   "execution_count": 77,
   "metadata": {},
   "outputs": [
    {
     "name": "stdout",
     "output_type": "stream",
     "text": [
      "__________________________________________________________________________________________________\n",
      "Layer (type)                    Output Shape         Param #     Connected to                     \n",
      "==================================================================================================\n",
      "input_2 (InputLayer)            (None, 784)          0                                            \n",
      "__________________________________________________________________________________________________\n",
      "dense_4 (Dense)                 (None, 400)          314000      input_2[0][0]                    \n",
      "__________________________________________________________________________________________________\n",
      "dense_5 (Dense)                 (None, 200)          157000      input_2[0][0]                    \n",
      "__________________________________________________________________________________________________\n",
      "dense_6 (Dense)                 (None, 400)          314000      input_2[0][0]                    \n",
      "__________________________________________________________________________________________________\n",
      "concatenate_2 (Concatenate)     (None, 1000)         0           dense_4[0][0]                    \n",
      "                                                                 dense_5[0][0]                    \n",
      "                                                                 dense_6[0][0]                    \n",
      "__________________________________________________________________________________________________\n",
      "dense_8 (Dense)                 (None, 500)          500500      concatenate_2[0][0]              \n",
      "__________________________________________________________________________________________________\n",
      "dense_11 (Dense)                (None, 300)          150300      dense_8[0][0]                    \n",
      "__________________________________________________________________________________________________\n",
      "dense_12 (Dense)                (None, 300)          150300      dense_8[0][0]                    \n",
      "__________________________________________________________________________________________________\n",
      "concatenate_4 (Concatenate)     (None, 600)          0           dense_11[0][0]                   \n",
      "                                                                 dense_12[0][0]                   \n",
      "__________________________________________________________________________________________________\n",
      "dense_14 (Dense)                (None, 10)           6010        concatenate_4[0][0]              \n",
      "==================================================================================================\n",
      "Total params: 1,592,110\n",
      "Trainable params: 1,592,110\n",
      "Non-trainable params: 0\n",
      "__________________________________________________________________________________________________\n"
     ]
    }
   ],
   "source": [
    "# 建模並且查看\n",
    "\n",
    "model = Model(x, y)\n",
    "model.summary()"
   ]
  },
  {
   "cell_type": "markdown",
   "metadata": {},
   "source": [
    "#### 神經網路建立完後，第一步就是將 model 做 compile"
   ]
  },
  {
   "cell_type": "code",
   "execution_count": 78,
   "metadata": {},
   "outputs": [],
   "source": [
    "model.compile(loss='mse', optimizer=\"adam\", metrics=['accuracy'])"
   ]
  },
  {
   "cell_type": "markdown",
   "metadata": {},
   "source": [
    "#### model fit"
   ]
  },
  {
   "cell_type": "code",
   "execution_count": 79,
   "metadata": {},
   "outputs": [
    {
     "name": "stdout",
     "output_type": "stream",
     "text": [
      "Train on 60000 samples, validate on 10000 samples\n",
      "Epoch 1/5\n",
      "60000/60000 [==============================] - 20s 335us/step - loss: 0.0016 - acc: 0.9901 - val_loss: 0.0033 - val_acc: 0.9792\n",
      "Epoch 2/5\n",
      "60000/60000 [==============================] - 19s 321us/step - loss: 0.0015 - acc: 0.9910 - val_loss: 0.0035 - val_acc: 0.9785\n",
      "Epoch 3/5\n",
      "60000/60000 [==============================] - 19s 318us/step - loss: 0.0013 - acc: 0.9919 - val_loss: 0.0035 - val_acc: 0.9785\n",
      "Epoch 4/5\n",
      "60000/60000 [==============================] - 20s 327us/step - loss: 0.0012 - acc: 0.9924 - val_loss: 0.0033 - val_acc: 0.9794\n",
      "Epoch 5/5\n",
      "60000/60000 [==============================] - 19s 315us/step - loss: 0.0011 - acc: 0.9936 - val_loss: 0.0031 - val_acc: 0.9819\n"
     ]
    }
   ],
   "source": [
    "model_1 = model.fit(x_train, y_train_num, batch_size=100, epochs=5,verbose=1,validation_data=(x_test,y_test_num))"
   ]
  },
  {
   "cell_type": "markdown",
   "metadata": {},
   "source": [
    "### Training data accuracy plot"
   ]
  },
  {
   "cell_type": "code",
   "execution_count": 80,
   "metadata": {},
   "outputs": [
    {
     "data": {
      "image/png": "[encoded data removed]",
      "text/plain": [
       "<Figure size 432x288 with 1 Axes>"
      ]
     },
     "metadata": {
      "needs_background": "light"
     },
     "output_type": "display_data"
    }
   ],
   "source": [
    "plt.plot(model_1.history[\"acc\"])\n",
    "plt.title(\"model training accuracy\")\n",
    "plt.ylabel(\"accuracy\")\n",
    "plt.xlabel(\"epoch\")\n",
    "plt.show()"
   ]
  },
  {
   "cell_type": "markdown",
   "metadata": {},
   "source": [
    "### Testing data accuracy plot"
   ]
  },
  {
   "cell_type": "code",
   "execution_count": 81,
   "metadata": {},
   "outputs": [
    {
     "data": {
      "image/png": "[encoded data removed]",
      "text/plain": [
       "<Figure size 432x288 with 1 Axes>"
      ]
     },
     "metadata": {
      "needs_background": "light"
     },
     "output_type": "display_data"
    }
   ],
   "source": [
    "plt.plot(model_1.history[\"val_acc\"],color=\"yellow\")\n",
    "plt.title(\"model testing accuracy\")\n",
    "plt.ylabel(\"accuracy\")\n",
    "plt.xlabel(\"epoch\")\n",
    "plt.show()"
   ]
  },
  {
   "cell_type": "markdown",
   "metadata": {},
   "source": [
    "### Testing data 預測表現"
   ]
  },
  {
   "cell_type": "code",
   "execution_count": 82,
   "metadata": {},
   "outputs": [
    {
     "name": "stdout",
     "output_type": "stream",
     "text": [
      "10000/10000 [==============================] - 1s 75us/step\n",
      "Loss: 0.003088\n",
      "準確率: 98.190001\n"
     ]
    }
   ],
   "source": [
    "score = model.evaluate(x_test, y_test_num, batch_size=100)\n",
    "print(\"Loss: %f\" %score[0])\n",
    "print(\"準確率: %f\" %(score[1]*100))"
   ]
  },
  {
   "cell_type": "markdown",
   "metadata": {},
   "source": [
    "### 結論\n",
    "\n",
    "     原本 optimizer 使用 SGD accuracy 不到 20%，換了 adam 之後馬上衝到 98% ，只能說 adam 太強大了。不知道是否因為我的神經網路結構不適合SGD，而是適合 adam。"
   ]
  }
 ],
 "metadata": {
  "kernelspec": {
   "display_name": "Python 3",
   "language": "python",
   "name": "python3"
  },
  "language_info": {
   "codemirror_mode": {
    "name": "ipython",
    "version": 3
   },
   "file_extension": ".py",
   "mimetype": "text/x-python",
   "name": "python",
   "nbconvert_exporter": "python",
   "pygments_lexer": "ipython3",
   "version": "3.6.5"
  }
 },
 "nbformat": 4,
 "nbformat_minor": 2
}
