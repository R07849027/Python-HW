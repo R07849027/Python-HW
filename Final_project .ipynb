{
 "cells": [
  {
   "cell_type": "markdown",
   "metadata": {},
   "source": [
    "## 主題：以CNN做表情辨認"
   ]
  },
  {
   "cell_type": "markdown",
   "metadata": {},
   "source": [
    "### 組員：張毓倩、江育誠、黃涱煜"
   ]
  },
  {
   "cell_type": "markdown",
   "metadata": {},
   "source": [
    "### 介紹：\n",
    "   \n",
    "    本資料來自 kaggle 網站(來源在文末連結，資料由 Mila 公司提供)，共有兩萬八千張左右48x48 pixel的圖片，每一張圖片皆有表情label，而每張圖片都只會有一種表情。總共有七種可能的表情（0：生氣, 1：厭惡, 2：恐懼, 3：高興, 4：難過, 5：驚訝, 6：中立(難以區分為前六種的表情))。此外，還有三千五百多筆 public testing data，因此我們會將兩萬八千筆 training data 以 CNN 建立出預測模型後，再利用 public testing data 評估預測準確率。\n",
    "    \n",
    "    (https://www.kaggle.com/c/challenges-in-representation-learning-facial-expression-recognition-challenge)\n",
    "  "
   ]
  },
  {
   "cell_type": "markdown",
   "metadata": {},
   "source": [
    "### 模型建構如下：\n",
    "\n",
    "    以兩萬八千筆有 label 的資料當作 Training data (27000 training, 1000 validation)，使用 kaggle 上 public testing data 作為測試資料(測試資料量為3589)。模型結構如下圖，由於資料量龐大因此使用 Server 跑："
   ]
  },
  {
   "cell_type": "markdown",
   "metadata": {},
   "source": [
    " <img src=\"final_CNN.png\" alt=\"drawing\" style=\"width: 900px; height: 500px\"/>"
   ]
  },
  {
   "cell_type": "code",
   "execution_count": 3,
   "metadata": {},
   "outputs": [
    {
     "name": "stderr",
     "output_type": "stream",
     "text": [
      "Using TensorFlow backend.\n"
     ]
    }
   ],
   "source": [
    "import csv\n",
    "import numpy as np\n",
    "import sys\n",
    "import matplotlib.pyplot as plt\n",
    "from keras.models import Sequential, load_model\n",
    "from keras.layers import Dense, Flatten, Conv2D, MaxPooling2D, \\\n",
    "      Activation, BatchNormalization, Dropout\n",
    "\n",
    "from keras.preprocessing.image import ImageDataGenerator\n",
    "from keras.utils import np_utils\n",
    "from keras.optimizers import adam\n",
    "import time"
   ]
  },
  {
   "cell_type": "code",
   "execution_count": null,
   "metadata": {
    "collapsed": true
   },
   "outputs": [],
   "source": [
    "train_num = 27000\n",
    "test_num = 1000\n",
    "\n",
    "\n",
    "def load_train():\n",
    "   all_features = []\n",
    "   all_labels = []\n",
    "   count = 0\n",
    "   # train_num = 5000\n",
    "   with open(\"train.csv\", 'r', encoding='big5') as file:\n",
    "      file.readline()\n",
    "      all_rows = csv.reader(file, delimiter=',')\n",
    "      for row in all_rows:\n",
    "         if count == train_num:\n",
    "            break\n",
    "         all_labels.append(row[0])\n",
    "         all_features.append(row[1].split(' '))\n",
    "         count += 1\n",
    "\n",
    "   all_features = np.array(all_features).astype('float')\n",
    "   all_features = all_features.reshape(train_num, 48, 48, 1)\n",
    "\n",
    "   all_labels = np.array(all_labels).astype('float')\n",
    "   all_labels = np_utils.to_categorical(all_labels, 7)\n",
    "   print(\"finish at \",time.time());\n",
    "   return all_features, all_labels\n",
    "\n",
    "def load_test():\n",
    "   all_features = []\n",
    "   all_labels = []\n",
    "   count = 0\n",
    "\n",
    "   with open(\"train.csv\", 'r', encoding='big5') as file:\n",
    "      file.readline()\n",
    "      all_rows = csv.reader(file, delimiter=',')\n",
    "      for row in all_rows:\n",
    "         if count > train_num:\n",
    "            if count > train_num + test_num:\n",
    "               break\n",
    "            all_labels.append(row[0])\n",
    "            all_features.append(row[1].split(' '))\n",
    "         count += 1         \n",
    "   \n",
    "   all_features = np.array(all_features).astype('float')\n",
    "   all_features = all_features.reshape(test_num, 48, 48, 1)\n",
    "\n",
    "   all_labels = np.array(all_labels).astype('float')\n",
    "   all_labels = np_utils.to_categorical(all_labels, 7)\n",
    "   print(\"finish at \",time.time());\n",
    "   return all_features, all_labels\n",
    "\n",
    "def build_model(x_train):\n",
    "   model = Sequential()\n",
    "   num_classes = 7\n",
    "\n",
    "   model.add(Conv2D(64, (3, 3), padding='same',\n",
    "               input_shape=x_train.shape[1:]))\n",
    "   model.add(BatchNormalization())\n",
    "   model.add(Activation('relu'))\n",
    "\n",
    "   model.add(Conv2D(64, (3, 3)))\n",
    "   model.add(BatchNormalization())\n",
    "   model.add(Activation('relu'))\n",
    "\n",
    "   model.add(MaxPooling2D(pool_size=(2, 2)))\n",
    "   model.add(Dropout(0.25))\n",
    "\n",
    "\n",
    "\n",
    "   model.add(Conv2D(128, (3, 3), padding='same'))\n",
    "   model.add(BatchNormalization())\n",
    "   model.add(Activation('relu'))\n",
    "\n",
    "   model.add(Conv2D(256, (3, 3)))\n",
    "   model.add(BatchNormalization())\n",
    "   model.add(Activation('relu'))\n",
    "\n",
    "   model.add(MaxPooling2D(pool_size=(2, 2)))\n",
    "   model.add(Dropout(0.25))\n",
    "\n",
    "\n",
    "\n",
    "   model.add(Conv2D(128, (3, 3), padding='same'))\n",
    "   model.add(BatchNormalization())\n",
    "   model.add(Activation('relu'))\n",
    "\n",
    "   model.add(Conv2D(128, (3, 3)))\n",
    "   model.add(BatchNormalization())\n",
    "   model.add(Activation('relu'))\n",
    "\n",
    "   model.add(MaxPooling2D(pool_size=(2, 2)))\n",
    "   model.add(Dropout(0.25))\n",
    "\n",
    "\n",
    "\n",
    "   model.add(Flatten())\n",
    "   model.add(Dense(512))\n",
    "   model.add(BatchNormalization())\n",
    "   model.add(Activation('relu'))\n",
    "   model.add(Dropout(0.333))\n",
    "   model.add(Dense(512))\n",
    "   model.add(BatchNormalization())\n",
    "   model.add(Activation('relu'))\n",
    "   model.add(Dropout(0.333))\n",
    "\n",
    "   model.add(Dense(num_classes))\n",
    "   model.add(Activation('softmax'))\n",
    "   print(\"finish at \",time.time());\n",
    "   return model\n",
    "\n",
    "X_train, Y_train = load_train()\n",
    "X_test, Y_test = load_test()\n",
    "\n",
    "## normalize ##\n",
    "X_train = X_train / 255\n",
    "X_test = X_test / 255\n",
    "\n",
    "\n",
    "\n",
    "# main ##\n",
    "model = build_model(X_train)\n",
    "# model = load_model('model-5000.h5')\n",
    "model.compile(loss='categorical_crossentropy', optimizer=adam(lr=0.005),\n",
    "               metrics=['accuracy'])\n",
    "model.summary()\n",
    "## augmentation ##\n",
    "datagen = ImageDataGenerator(\n",
    "            rotation_range=30,\n",
    "            width_shift_range=0.2,\n",
    "            height_shift_range=0.2,\n",
    "            zoom_range=[0.8, 1.2],\n",
    "            shear_range=0.2,\n",
    "            horizontal_flip=True)\n",
    "      \n",
    "#model.fit(X_train, Y_train, batch_size=256, epochs=50, shuffle=True)\n",
    "model.fit_generator(datagen.flow(X_train, Y_train, batch_size=128), \n",
    "            steps_per_epoch=5*len(X_train)//128,\n",
    "            validation_data=(X_test, Y_test),\n",
    "            epochs=50, workers = 10, shuffle=True)\n",
    "\n",
    "model.save('model-augmentation.h5')"
   ]
  },
  {
   "cell_type": "markdown",
   "metadata": {},
   "source": [
    "### Training result：\n",
    "\n",
    "    由於過程顯示的資訊量太多，只顯示最後一個 epoch 的資訊：\n",
    "     "
   ]
  },
  {
   "cell_type": "markdown",
   "metadata": {},
   "source": [
    " <img src=\"final.png\" alt=\"drawing\" style=\"width: 900px; height: 500px\"/>"
   ]
  },
  {
   "cell_type": "markdown",
   "metadata": {},
   "source": [
    "    Training set (27000) accuracy : 0.9756\n",
    "    Validation set (1000) accuracy : 0.6830"
   ]
  },
  {
   "cell_type": "markdown",
   "metadata": {},
   "source": [
    "### Training accuracy 的趨勢圖：\n",
    "    \n",
    "    也是使用 Server 來跑，如下圖："
   ]
  },
  {
   "cell_type": "code",
   "execution_count": null,
   "metadata": {
    "collapsed": true
   },
   "outputs": [],
   "source": [
    "plt.plot(model.history[\"acc\"])\n",
    "plt.title(\"model training accuracy\")\n",
    "plt.ylabel(\"accuracy\")\n",
    "plt.xlabel(\"epoch\")\n",
    "plt.savefig('books_read.png')"
   ]
  },
  {
   "cell_type": "markdown",
   "metadata": {},
   "source": [
    " <img src=\"62218080_2267043480201250_1916741671098253312_n.png\" alt=\"drawing\" style=\"width: 900px; height: 500px\"/>"
   ]
  },
  {
   "cell_type": "markdown",
   "metadata": {},
   "source": [
    "    可從圖中觀察出前 10 個 epoch 時 accuracy 很快，大約在 40 之後開始收斂。"
   ]
  },
  {
   "cell_type": "markdown",
   "metadata": {},
   "source": [
    "### 測試評估 (Testing data)："
   ]
  },
  {
   "cell_type": "code",
   "execution_count": 16,
   "metadata": {},
   "outputs": [
    {
     "name": "stdout",
     "output_type": "stream",
     "text": [
      "_________________________________________________________________\n",
      "Layer (type)                 Output Shape              Param #   \n",
      "=================================================================\n",
      "conv2d_1 (Conv2D)            (None, 48, 48, 64)        640       \n",
      "_________________________________________________________________\n",
      "batch_normalization_1 (Batch (None, 48, 48, 64)        256       \n",
      "_________________________________________________________________\n",
      "activation_1 (Activation)    (None, 48, 48, 64)        0         \n",
      "_________________________________________________________________\n",
      "conv2d_2 (Conv2D)            (None, 46, 46, 64)        36928     \n",
      "_________________________________________________________________\n",
      "batch_normalization_2 (Batch (None, 46, 46, 64)        256       \n",
      "_________________________________________________________________\n",
      "activation_2 (Activation)    (None, 46, 46, 64)        0         \n",
      "_________________________________________________________________\n",
      "max_pooling2d_1 (MaxPooling2 (None, 23, 23, 64)        0         \n",
      "_________________________________________________________________\n",
      "dropout_1 (Dropout)          (None, 23, 23, 64)        0         \n",
      "_________________________________________________________________\n",
      "conv2d_3 (Conv2D)            (None, 23, 23, 128)       73856     \n",
      "_________________________________________________________________\n",
      "batch_normalization_3 (Batch (None, 23, 23, 128)       512       \n",
      "_________________________________________________________________\n",
      "activation_3 (Activation)    (None, 23, 23, 128)       0         \n",
      "_________________________________________________________________\n",
      "conv2d_4 (Conv2D)            (None, 21, 21, 256)       295168    \n",
      "_________________________________________________________________\n",
      "batch_normalization_4 (Batch (None, 21, 21, 256)       1024      \n",
      "_________________________________________________________________\n",
      "activation_4 (Activation)    (None, 21, 21, 256)       0         \n",
      "_________________________________________________________________\n",
      "max_pooling2d_2 (MaxPooling2 (None, 10, 10, 256)       0         \n",
      "_________________________________________________________________\n",
      "dropout_2 (Dropout)          (None, 10, 10, 256)       0         \n",
      "_________________________________________________________________\n",
      "conv2d_5 (Conv2D)            (None, 10, 10, 128)       295040    \n",
      "_________________________________________________________________\n",
      "batch_normalization_5 (Batch (None, 10, 10, 128)       512       \n",
      "_________________________________________________________________\n",
      "activation_5 (Activation)    (None, 10, 10, 128)       0         \n",
      "_________________________________________________________________\n",
      "conv2d_6 (Conv2D)            (None, 8, 8, 128)         147584    \n",
      "_________________________________________________________________\n",
      "batch_normalization_6 (Batch (None, 8, 8, 128)         512       \n",
      "_________________________________________________________________\n",
      "activation_6 (Activation)    (None, 8, 8, 128)         0         \n",
      "_________________________________________________________________\n",
      "max_pooling2d_3 (MaxPooling2 (None, 4, 4, 128)         0         \n",
      "_________________________________________________________________\n",
      "dropout_3 (Dropout)          (None, 4, 4, 128)         0         \n",
      "_________________________________________________________________\n",
      "flatten_1 (Flatten)          (None, 2048)              0         \n",
      "_________________________________________________________________\n",
      "dense_1 (Dense)              (None, 512)               1049088   \n",
      "_________________________________________________________________\n",
      "batch_normalization_7 (Batch (None, 512)               2048      \n",
      "_________________________________________________________________\n",
      "activation_7 (Activation)    (None, 512)               0         \n",
      "_________________________________________________________________\n",
      "dropout_4 (Dropout)          (None, 512)               0         \n",
      "_________________________________________________________________\n",
      "dense_2 (Dense)              (None, 512)               262656    \n",
      "_________________________________________________________________\n",
      "batch_normalization_8 (Batch (None, 512)               2048      \n",
      "_________________________________________________________________\n",
      "activation_8 (Activation)    (None, 512)               0         \n",
      "_________________________________________________________________\n",
      "dropout_5 (Dropout)          (None, 512)               0         \n",
      "_________________________________________________________________\n",
      "dense_3 (Dense)              (None, 7)                 3591      \n",
      "_________________________________________________________________\n",
      "activation_9 (Activation)    (None, 7)                 0         \n",
      "=================================================================\n",
      "Total params: 2,171,719\n",
      "Trainable params: 2,168,135\n",
      "Non-trainable params: 3,584\n",
      "_________________________________________________________________\n",
      "7178/7178 [==============================] - 133s 19ms/step\n",
      "test accuracy is:  0.6705210364838103\n"
     ]
    }
   ],
   "source": [
    "import csv\n",
    "import numpy as np\n",
    "import sys\n",
    "import matplotlib.pyplot as plt\n",
    "from keras.models import Sequential, load_model\n",
    "from keras.layers import Dense, Flatten, Conv2D, MaxPooling2D, \\\n",
    "      Activation, BatchNormalization, Dropout\n",
    "\n",
    "from keras.preprocessing.image import ImageDataGenerator\n",
    "from keras.utils import np_utils\n",
    "from keras.optimizers import adam\n",
    "def load_test():\n",
    "   all_features = []\n",
    "   all_labels = []\n",
    "   count = 0\n",
    "\n",
    "   with open(\"fer2013.csv\", 'r', encoding='big5') as file:\n",
    "      file.readline()\n",
    "      all_rows = csv.reader(file, delimiter=',')\n",
    "      for row in all_rows:\n",
    "         if row[2] == 'Training':\n",
    "            continue\n",
    "         all_labels.append(row[0])\n",
    "         all_features.append(row[1].split(' '))\n",
    "         count += 1\n",
    "\n",
    "   all_features = np.array(all_features).astype('float')\n",
    "   all_features = all_features.reshape(count, 48, 48, 1)\n",
    "\n",
    "   all_labels = np.array(all_labels).astype('float')\n",
    "   all_labels = np_utils.to_categorical(all_labels, 7)\n",
    "\n",
    "   return all_features, all_labels\n",
    "\n",
    "def build_model(x_train):\n",
    "   model = Sequential()\n",
    "   num_classes = 7\n",
    "\n",
    "   model.add(Conv2D(64, (3, 3), padding='same',\n",
    "               input_shape=x_train.shape[1:]))\n",
    "   model.add(BatchNormalization())\n",
    "   model.add(Activation('relu'))\n",
    "\n",
    "   model.add(Conv2D(64, (3, 3)))\n",
    "   model.add(BatchNormalization())\n",
    "   model.add(Activation('relu'))\n",
    "\n",
    "   model.add(MaxPooling2D(pool_size=(2, 2)))\n",
    "   model.add(Dropout(0.25))\n",
    "\n",
    "\n",
    "\n",
    "   model.add(Conv2D(128, (3, 3), padding='same'))\n",
    "   model.add(BatchNormalization())\n",
    "   model.add(Activation('relu'))\n",
    "\n",
    "   model.add(Conv2D(256, (3, 3)))\n",
    "   model.add(BatchNormalization())\n",
    "   model.add(Activation('relu'))\n",
    "\n",
    "   model.add(MaxPooling2D(pool_size=(2, 2)))\n",
    "   model.add(Dropout(0.25))\n",
    "\n",
    "\n",
    "\n",
    "   model.add(Conv2D(128, (3, 3), padding='same'))\n",
    "   model.add(BatchNormalization())\n",
    "   model.add(Activation('relu'))\n",
    "\n",
    "   model.add(Conv2D(128, (3, 3)))\n",
    "   model.add(BatchNormalization())\n",
    "   model.add(Activation('relu'))\n",
    "\n",
    "   model.add(MaxPooling2D(pool_size=(2, 2)))\n",
    "   model.add(Dropout(0.25))\n",
    "\n",
    "\n",
    "\n",
    "   model.add(Flatten())\n",
    "   model.add(Dense(512))\n",
    "   model.add(BatchNormalization())\n",
    "   model.add(Activation('relu'))\n",
    "   model.add(Dropout(0.333))\n",
    "   model.add(Dense(512))\n",
    "   model.add(BatchNormalization())\n",
    "   model.add(Activation('relu'))\n",
    "   model.add(Dropout(0.333))\n",
    "\n",
    "   model.add(Dense(num_classes))\n",
    "   model.add(Activation('softmax'))\n",
    "   print(\"finish at \",time.time());\n",
    "\n",
    "   return model\n",
    "\n",
    "\n",
    "\n",
    "X_test, Y_test = load_test()\n",
    "\n",
    "\n",
    "X_test = X_test / 255\n",
    "\n",
    "## augmentation ##\n",
    "datagen = ImageDataGenerator(\n",
    "            rotation_range=30,\n",
    "            width_shift_range=0.2,\n",
    "            height_shift_range=0.2,\n",
    "            zoom_range=[0.8, 1.2],\n",
    "            shear_range=0.2,\n",
    "            horizontal_flip=True)\n",
    "\n",
    "\n",
    "# main ##\n",
    "#model = build_model(X_train)\n",
    "model = load_model(\"model-augmentation.h5\")\n",
    "model.compile(loss='categorical_crossentropy', optimizer=adam(lr=0.001),\n",
    "               metrics=['accuracy'])\n",
    "model.summary()\n",
    "\n",
    "\n",
    "test_acc =  model.evaluate(X_test, Y_test)\n",
    "print('test accuracy is: ', test_acc[1])\n",
    "\n",
    "model.save_weights('model-3000-0.68.h5')"
   ]
  },
  {
   "cell_type": "markdown",
   "metadata": {},
   "source": [
    "### Testing data accuracy：67.05%"
   ]
  },
  {
   "cell_type": "markdown",
   "metadata": {},
   "source": [
    "### Model comparison：\n",
    "    \n",
    "    該比賽在2013年的冠軍Accuracy僅為34%，我們使用一個藉由相同資料發表的model作為比較(來源如網址)，該model的Accuracy為57%，而我們則為67.05%，以下就來透過比較來突顯出我們model的特點。\n",
    "    \n",
    "    \n",
    "    (https://l.facebook.com/l.php?u=https%3A%2F%2Fsefiks.com%2F2018%2F01%2F01%2Ffacial-expression-recognition-with-keras%2F%3Ffbclid%3DIwAR0IFtLwvk4NBSx8AuIXEWmkoa66HIpr3scn6bfNep3Ota-7_qqegFvWTAU&h=AT2xOVuWldll6qJDRdGSwNDHtIHmoh2OsrusEt0NBYxXNqEvEVMNyEPsn0qKMH9aWFwc5fImxdEsUpIo2ZcU1cyybP219AfblGhKvxnfcGNNCB4Fp8aLjXK01OfkgUxVoNczvA)"
   ]
  },
  {
   "cell_type": "markdown",
   "metadata": {},
   "source": [
    "### 比較模型的程式碼："
   ]
  },
  {
   "cell_type": "code",
   "execution_count": 6,
   "metadata": {
    "collapsed": true
   },
   "outputs": [],
   "source": [
    "import tensorflow as tf\n",
    "\n",
    "import keras\n",
    "from keras.models import Sequential\n",
    "from keras.layers import Conv2D, MaxPooling2D, AveragePooling2D\n",
    "from keras.layers import Dense, Activation, Dropout, Flatten\n",
    "\n",
    "from keras.preprocessing import image\n",
    "from keras.preprocessing.image import ImageDataGenerator\n",
    "\n",
    "import numpy as np\n",
    "import matplotlib.pyplot as plt"
   ]
  },
  {
   "cell_type": "code",
   "execution_count": 12,
   "metadata": {
    "collapsed": true
   },
   "outputs": [],
   "source": [
    "import csv\n",
    "from keras.utils import np_utils"
   ]
  },
  {
   "cell_type": "code",
   "execution_count": 13,
   "metadata": {
    "collapsed": true
   },
   "outputs": [],
   "source": [
    "#------------------------------\n",
    "#cpu - gpu configuration\n",
    "config = tf.ConfigProto( device_count = {'GPU': 0 , 'CPU': 56} ) #max: 1 gpu, 56 cpu\n",
    "sess = tf.Session(config=config) \n",
    "keras.backend.set_session(sess)\n",
    "#------------------------------"
   ]
  },
  {
   "cell_type": "code",
   "execution_count": 14,
   "metadata": {
    "collapsed": true
   },
   "outputs": [],
   "source": [
    "#variables\n",
    "num_classes = 7 #angry, disgust, fear, happy, sad, surprise, neutral\n",
    "batch_size = 256\n",
    "epochs = 5\n",
    "#------------------------------"
   ]
  },
  {
   "cell_type": "code",
   "execution_count": 15,
   "metadata": {},
   "outputs": [
    {
     "name": "stdout",
     "output_type": "stream",
     "text": [
      "number of instances:  35888\n",
      "instance length:  2304\n"
     ]
    }
   ],
   "source": [
    "#read kaggle facial expression recognition challenge dataset (fer2013.csv)\n",
    "#https://www.kaggle.com/c/challenges-in-representation-learning-facial-expression-recognition-challenge\n",
    "\n",
    "with open(\"fer2013.csv\") as f:\n",
    "    content = f.readlines()\n",
    "\n",
    "lines = np.array(content)\n",
    "\n",
    "num_of_instances = lines.size\n",
    "print(\"number of instances: \",num_of_instances)\n",
    "print(\"instance length: \",len(lines[1].split(\",\")[1].split(\" \")))\n"
   ]
  },
  {
   "cell_type": "code",
   "execution_count": 16,
   "metadata": {
    "collapsed": true
   },
   "outputs": [],
   "source": [
    "#------------------------------\n",
    "#initialize trainset and test set\n",
    "x_train, y_train, x_test, y_test = [], [], [], []\n",
    "\n",
    "#------------------------------\n",
    "#transfer train and test set data\n",
    "for i in range(1,num_of_instances):\n",
    "    try:\n",
    "        emotion, img, usage = lines[i].split(\",\")\n",
    "          \n",
    "        val = img.split(\" \")\n",
    "            \n",
    "        pixels = np.array(val, 'float32')\n",
    "        \n",
    "        emotion = keras.utils.to_categorical(emotion, num_classes)\n",
    "    \n",
    "        if 'Training' in usage:\n",
    "            y_train.append(emotion)\n",
    "            x_train.append(pixels)\n",
    "        elif 'PublicTest' in usage:\n",
    "            y_test.append(emotion)\n",
    "            x_test.append(pixels)\n",
    "    except:\n",
    "        print(\"\",end=\"\")\n",
    "\n",
    "#------------------------------"
   ]
  },
  {
   "cell_type": "code",
   "execution_count": 17,
   "metadata": {},
   "outputs": [
    {
     "name": "stdout",
     "output_type": "stream",
     "text": [
      "28709 train samples\n",
      "3589 test samples\n"
     ]
    }
   ],
   "source": [
    "#data transformation for train and test sets\n",
    "x_train = np.array(x_train, 'float32')\n",
    "y_train = np.array(y_train, 'float32')\n",
    "x_test = np.array(x_test, 'float32')\n",
    "y_test = np.array(y_test, 'float32')\n",
    "\n",
    "x_train /= 255 #normalize inputs between [0, 1]\n",
    "x_test /= 255\n",
    "\n",
    "x_train = x_train.reshape(x_train.shape[0], 48, 48, 1)\n",
    "x_train = x_train.astype('float32')\n",
    "x_test = x_test.reshape(x_test.shape[0], 48, 48, 1)\n",
    "x_test = x_test.astype('float32')\n",
    "\n",
    "print(x_train.shape[0], 'train samples')\n",
    "print(x_test.shape[0], 'test samples')\n",
    "#------------------------------"
   ]
  },
  {
   "cell_type": "code",
   "execution_count": 9,
   "metadata": {},
   "outputs": [
    {
     "name": "stdout",
     "output_type": "stream",
     "text": [
      "WARNING:tensorflow:From C:\\Users\\Rynk\\Anaconda3\\lib\\site-packages\\tensorflow\\python\\framework\\op_def_library.py:263: colocate_with (from tensorflow.python.framework.ops) is deprecated and will be removed in a future version.\n",
      "Instructions for updating:\n",
      "Colocations handled automatically by placer.\n",
      "WARNING:tensorflow:From C:\\Users\\Rynk\\Anaconda3\\lib\\site-packages\\keras\\backend\\tensorflow_backend.py:3445: calling dropout (from tensorflow.python.ops.nn_ops) with keep_prob is deprecated and will be removed in a future version.\n",
      "Instructions for updating:\n",
      "Please use `rate` instead of `keep_prob`. Rate should be set to `rate = 1 - keep_prob`.\n"
     ]
    }
   ],
   "source": [
    "#construct CNN structure\n",
    "model = Sequential()\n",
    "\n",
    "#1st convolution layer\n",
    "model.add(Conv2D(64, (5, 5), activation='relu', input_shape=(48,48,1)))\n",
    "model.add(MaxPooling2D(pool_size=(5,5), strides=(2, 2)))\n",
    "\n",
    "#2nd convolution layer\n",
    "model.add(Conv2D(64, (3, 3), activation='relu'))\n",
    "model.add(Conv2D(64, (3, 3), activation='relu'))\n",
    "model.add(AveragePooling2D(pool_size=(3,3), strides=(2, 2)))\n",
    "\n",
    "#3rd convolution layer\n",
    "model.add(Conv2D(128, (3, 3), activation='relu'))\n",
    "model.add(Conv2D(128, (3, 3), activation='relu'))\n",
    "model.add(AveragePooling2D(pool_size=(3,3), strides=(2, 2)))\n",
    "\n",
    "model.add(Flatten())\n",
    "\n",
    "#fully connected neural networks\n",
    "model.add(Dense(1024, activation='relu'))\n",
    "model.add(Dropout(0.2))\n",
    "model.add(Dense(1024, activation='relu'))\n",
    "model.add(Dropout(0.2))\n",
    "\n",
    "model.add(Dense(num_classes, activation='softmax'))\n",
    "#------------------------------"
   ]
  },
  {
   "cell_type": "code",
   "execution_count": 10,
   "metadata": {},
   "outputs": [
    {
     "name": "stdout",
     "output_type": "stream",
     "text": [
      "_________________________________________________________________\n",
      "Layer (type)                 Output Shape              Param #   \n",
      "=================================================================\n",
      "conv2d_1 (Conv2D)            (None, 44, 44, 64)        1664      \n",
      "_________________________________________________________________\n",
      "max_pooling2d_1 (MaxPooling2 (None, 20, 20, 64)        0         \n",
      "_________________________________________________________________\n",
      "conv2d_2 (Conv2D)            (None, 18, 18, 64)        36928     \n",
      "_________________________________________________________________\n",
      "conv2d_3 (Conv2D)            (None, 16, 16, 64)        36928     \n",
      "_________________________________________________________________\n",
      "average_pooling2d_1 (Average (None, 7, 7, 64)          0         \n",
      "_________________________________________________________________\n",
      "conv2d_4 (Conv2D)            (None, 5, 5, 128)         73856     \n",
      "_________________________________________________________________\n",
      "conv2d_5 (Conv2D)            (None, 3, 3, 128)         147584    \n",
      "_________________________________________________________________\n",
      "average_pooling2d_2 (Average (None, 1, 1, 128)         0         \n",
      "_________________________________________________________________\n",
      "flatten_1 (Flatten)          (None, 128)               0         \n",
      "_________________________________________________________________\n",
      "dense_1 (Dense)              (None, 1024)              132096    \n",
      "_________________________________________________________________\n",
      "dropout_1 (Dropout)          (None, 1024)              0         \n",
      "_________________________________________________________________\n",
      "dense_2 (Dense)              (None, 1024)              1049600   \n",
      "_________________________________________________________________\n",
      "dropout_2 (Dropout)          (None, 1024)              0         \n",
      "_________________________________________________________________\n",
      "dense_3 (Dense)              (None, 7)                 7175      \n",
      "=================================================================\n",
      "Total params: 1,485,831\n",
      "Trainable params: 1,485,831\n",
      "Non-trainable params: 0\n",
      "_________________________________________________________________\n"
     ]
    }
   ],
   "source": [
    "model.summary()"
   ]
  },
  {
   "cell_type": "code",
   "execution_count": 11,
   "metadata": {
    "collapsed": true
   },
   "outputs": [],
   "source": [
    "#batch process\n",
    "gen = ImageDataGenerator()\n",
    "train_generator = gen.flow(x_train, y_train, batch_size=batch_size)\n",
    "\n",
    "\n",
    "#------------------------------\n",
    "\n",
    "model.compile(loss='categorical_crossentropy'\n",
    "    , optimizer=keras.optimizers.Adam()\n",
    "    , metrics=['accuracy']\n",
    ")\n",
    "\n",
    "#------------------------------\n"
   ]
  },
  {
   "cell_type": "markdown",
   "metadata": {},
   "source": [
    "#### 直接使用原作者Train好的 weight："
   ]
  },
  {
   "cell_type": "code",
   "execution_count": 12,
   "metadata": {
    "collapsed": true
   },
   "outputs": [],
   "source": [
    "fit = False\n",
    "\n",
    "if fit == True:\n",
    "\t#model.fit_generator(x_train, y_train, epochs=epochs) #train for all trainset\n",
    "\tmodel.fit_generator(train_generator, steps_per_epoch=batch_size, epochs=epochs) #train for randomly selected one\n",
    "else:\n",
    "\tmodel.load_weights('facial_expression_model_weights.h5') #load weights\n",
    "\t\n",
    "#------------------------------"
   ]
  },
  {
   "cell_type": "code",
   "execution_count": 13,
   "metadata": {},
   "outputs": [
    {
     "name": "stdout",
     "output_type": "stream",
     "text": [
      "3589/3589 [==============================] - 6s 2ms/step\n",
      "Test loss: 2.279457059036759\n",
      "Test accuracy: 57.42546670713874\n"
     ]
    }
   ],
   "source": [
    "#overall evaluation\n",
    "score = model.evaluate(x_test, y_test)\n",
    "print('Test loss:', score[0])\n",
    "print('Test accuracy:', 100*score[1])"
   ]
  },
  {
   "cell_type": "markdown",
   "metadata": {},
   "source": [
    "#### 該作者的 Testing accuracy 為 57.42%，比我們少了將近 10 %。"
   ]
  },
  {
   "cell_type": "markdown",
   "metadata": {},
   "source": [
    "### 模型比較結論：\n",
    "\n",
    "    我們的 model 與該作者的最大差異在於 model.fit_generator() 中的參數：\"shuffle\"。Shuffle 參數是布林值，代表是否在每輪迭代之前打亂數據，就是每次取出 bactch size 資料時是隨機的，意即並非按照資料序列取出資料。\n",
    "    未加入 shuffle 前，我們的 testing accuracy 大約只有 57~58%，加入後立即提升為 63%，之後再加入 data augmentation 之後則為 68%。至於data augmentation 的參數我們也是 try and error，提升的原因可能在於經過 augmentation 後，模型能捕捉到更多資訊。\n",
    "    使用 Shuffle 有很大的差異的可能原因在於，若按照資料順序去訓練的話，也許無法較全面地捕捉到資料的變化，因此將 Training set 做隨機的抽取是有其必要性的。"
   ]
  },
  {
   "cell_type": "markdown",
   "metadata": {},
   "source": [
    "### 實際測試我們自己的照片："
   ]
  },
  {
   "cell_type": "code",
   "execution_count": 1,
   "metadata": {
    "collapsed": true
   },
   "outputs": [],
   "source": [
    "def emotion_analysis(emotions):\n",
    "    objects = ('angry', 'disgust', 'fear', 'happy', 'sad', 'surprise', 'neutral')\n",
    "    y_pos = np.arange(len(objects))\n",
    "    \n",
    "    plt.bar(y_pos, emotions, align='center', alpha=0.5)\n",
    "    plt.xticks(y_pos, objects)\n",
    "    plt.ylabel('percentage')\n",
    "    plt.title('emotion')\n",
    "    \n",
    "    plt.show()"
   ]
  },
  {
   "cell_type": "code",
   "execution_count": 4,
   "metadata": {},
   "outputs": [
    {
     "name": "stdout",
     "output_type": "stream",
     "text": [
      "WARNING:tensorflow:From C:\\Users\\Rynk\\Anaconda3\\lib\\site-packages\\tensorflow\\python\\framework\\op_def_library.py:263: colocate_with (from tensorflow.python.framework.ops) is deprecated and will be removed in a future version.\n",
      "Instructions for updating:\n",
      "Colocations handled automatically by placer.\n",
      "WARNING:tensorflow:From C:\\Users\\Rynk\\Anaconda3\\lib\\site-packages\\keras\\backend\\tensorflow_backend.py:3445: calling dropout (from tensorflow.python.ops.nn_ops) with keep_prob is deprecated and will be removed in a future version.\n",
      "Instructions for updating:\n",
      "Please use `rate` instead of `keep_prob`. Rate should be set to `rate = 1 - keep_prob`.\n",
      "WARNING:tensorflow:From C:\\Users\\Rynk\\Anaconda3\\lib\\site-packages\\tensorflow\\python\\ops\\math_ops.py:3066: to_int32 (from tensorflow.python.ops.math_ops) is deprecated and will be removed in a future version.\n",
      "Instructions for updating:\n",
      "Use tf.cast instead.\n"
     ]
    }
   ],
   "source": [
    "model = load_model(\"model-augmentation.h5\")"
   ]
  },
  {
   "cell_type": "markdown",
   "metadata": {},
   "source": [
    "### 原圖1：悲傷"
   ]
  },
  {
   "cell_type": "markdown",
   "metadata": {},
   "source": [
    " <img src=\"sad.jpg\" alt=\"drawing\" style=\"width: 300px; height: 300px\"/>"
   ]
  },
  {
   "cell_type": "code",
   "execution_count": 7,
   "metadata": {},
   "outputs": [
    {
     "name": "stderr",
     "output_type": "stream",
     "text": [
      "C:\\Users\\Rynk\\Anaconda3\\lib\\site-packages\\keras_preprocessing\\image\\utils.py:104: UserWarning: grayscale is deprecated. Please use color_mode = \"grayscale\"\n",
      "  warnings.warn('grayscale is deprecated. Please use '\n"
     ]
    },
    {
     "data": {
      "image/png": "[encoded data removed]",
      "text/plain": [
       "<matplotlib.figure.Figure at 0x1ce557dc3c8>"
      ]
     },
     "metadata": {},
     "output_type": "display_data"
    },
    {
     "data": {
      "image/png": "[encoded data removed]",
      "text/plain": [
       "<matplotlib.figure.Figure at 0x1ce557dc358>"
      ]
     },
     "metadata": {},
     "output_type": "display_data"
    }
   ],
   "source": [
    "#make prediction for custom image out of test set\n",
    "\n",
    "img = image.load_img(\"sad.jpg\", grayscale=True, target_size=(48, 48))\n",
    "\n",
    "x = image.img_to_array(img)\n",
    "x = np.expand_dims(x, axis = 0)\n",
    "\n",
    "x /= 255\n",
    "\n",
    "custom = model.predict(x)\n",
    "emotion_analysis(custom[0])\n",
    "\n",
    "x = np.array(x, 'float32')\n",
    "x = x.reshape([48, 48]);\n",
    "\n",
    "plt.gray()\n",
    "plt.imshow(x)\n",
    "plt.show()"
   ]
  },
  {
   "cell_type": "markdown",
   "metadata": {},
   "source": [
    "雖然 Neutral 的比例較高，但與 Sad 的比例幾乎等同，因此悲傷的估計尚且還算準確。"
   ]
  },
  {
   "cell_type": "markdown",
   "metadata": {},
   "source": [
    "### 原圖2：驚訝"
   ]
  },
  {
   "cell_type": "markdown",
   "metadata": {},
   "source": [
    " <img src=\"surprise.jpg\" alt=\"drawing\" style=\"width: 300px; height: 300px\"/>"
   ]
  },
  {
   "cell_type": "code",
   "execution_count": 21,
   "metadata": {},
   "outputs": [
    {
     "name": "stderr",
     "output_type": "stream",
     "text": [
      "C:\\Users\\Rynk\\Anaconda3\\lib\\site-packages\\keras_preprocessing\\image\\utils.py:104: UserWarning: grayscale is deprecated. Please use color_mode = \"grayscale\"\n",
      "  warnings.warn('grayscale is deprecated. Please use '\n"
     ]
    },
    {
     "data": {
      "image/png": "[encoded data removed]",
      "text/plain": [
       "<matplotlib.figure.Figure at 0x185d1b5a2e8>"
      ]
     },
     "metadata": {},
     "output_type": "display_data"
    },
    {
     "data": {
      "image/png": "[encoded data removed]",
      "text/plain": [
       "<matplotlib.figure.Figure at 0x185e1eb92e8>"
      ]
     },
     "metadata": {},
     "output_type": "display_data"
    }
   ],
   "source": [
    "img = image.load_img(\"surprise.jpg\", grayscale=True, target_size=(48, 48))\n",
    "\n",
    "x = image.img_to_array(img)\n",
    "x = np.expand_dims(x, axis = 0)\n",
    "\n",
    "x /= 255\n",
    "\n",
    "custom = model.predict(x)\n",
    "emotion_analysis(custom[0])\n",
    "\n",
    "x = np.array(x, 'float32')\n",
    "x = x.reshape([48, 48]);\n",
    "\n",
    "plt.gray()\n",
    "plt.imshow(x)\n",
    "plt.show()"
   ]
  },
  {
   "cell_type": "markdown",
   "metadata": {},
   "source": [
    "只估計出驚訝的成分！驚訝的表情估計非常精確！！"
   ]
  },
  {
   "cell_type": "markdown",
   "metadata": {},
   "source": [
    "### 原圖3：恐懼"
   ]
  },
  {
   "cell_type": "markdown",
   "metadata": {},
   "source": [
    " <img src=\"fear.jpg\" alt=\"drawing\" style=\"width: 300px; height: 300px\"/>"
   ]
  },
  {
   "cell_type": "code",
   "execution_count": 22,
   "metadata": {},
   "outputs": [
    {
     "name": "stderr",
     "output_type": "stream",
     "text": [
      "C:\\Users\\Rynk\\Anaconda3\\lib\\site-packages\\keras_preprocessing\\image\\utils.py:104: UserWarning: grayscale is deprecated. Please use color_mode = \"grayscale\"\n",
      "  warnings.warn('grayscale is deprecated. Please use '\n"
     ]
    },
    {
     "data": {
      "image/png": "[encoded data removed]",
      "text/plain": [
       "<matplotlib.figure.Figure at 0x185497059e8>"
      ]
     },
     "metadata": {},
     "output_type": "display_data"
    },
    {
     "data": {
      "image/png": "[encoded data removed]",
      "text/plain": [
       "<matplotlib.figure.Figure at 0x18549705128>"
      ]
     },
     "metadata": {},
     "output_type": "display_data"
    }
   ],
   "source": [
    "img = image.load_img(\"fear.jpg\", grayscale=True, target_size=(48, 48))\n",
    "\n",
    "x = image.img_to_array(img)\n",
    "x = np.expand_dims(x, axis = 0)\n",
    "\n",
    "x /= 255\n",
    "\n",
    "custom = model.predict(x)\n",
    "emotion_analysis(custom[0])\n",
    "\n",
    "x = np.array(x, 'float32')\n",
    "x = x.reshape([48, 48]);\n",
    "\n",
    "plt.gray()\n",
    "plt.imshow(x)\n",
    "plt.show()"
   ]
  },
  {
   "cell_type": "markdown",
   "metadata": {},
   "source": [
    "恐懼的表情判斷為驚訝，看來對於恐懼的預測不太準確。"
   ]
  },
  {
   "cell_type": "markdown",
   "metadata": {},
   "source": [
    "### 討論：\n",
    "\n",
    "    FER2013 為非常知名的比賽，很多表情辨識的愛好者都利用此資料才研發自己的CNN model，但是預測率卻始終無法達到80~90%以上，於是我們對此做出了探討：如上面三圖為例，model不一定能預測出我們對於自己的表情label，根本原因可能在於\"表情判定\"本來就是有主觀意識的，若這兩萬八千多筆資料在 label 時沒有一定的標準，那麼神經網路自然沒辦法有跡可循。因此做深度學習的同時，必須先確定 label 的一致性與正確性。"
   ]
  }
 ],
 "metadata": {
  "kernelspec": {
   "display_name": "Python 3",
   "language": "python",
   "name": "python3"
  },
  "language_info": {
   "codemirror_mode": {
    "name": "ipython",
    "version": 3
   },
   "file_extension": ".py",
   "mimetype": "text/x-python",
   "name": "python",
   "nbconvert_exporter": "python",
   "pygments_lexer": "ipython3",
   "version": "3.6.2"
  }
 },
 "nbformat": 4,
 "nbformat_minor": 2
}
